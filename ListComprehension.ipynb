{
  "nbformat": 4,
  "nbformat_minor": 0,
  "metadata": {
    "colab": {
      "name": "ListComprehension.ipynb",
      "provenance": [],
      "authorship_tag": "ABX9TyO6Bna5dFIRBXVtxfl+QWi0",
      "include_colab_link": true
    },
    "kernelspec": {
      "name": "python3",
      "display_name": "Python 3"
    },
    "language_info": {
      "name": "python"
    }
  },
  "cells": [
    {
      "cell_type": "markdown",
      "metadata": {
        "id": "view-in-github",
        "colab_type": "text"
      },
      "source": [
        "<a href=\"https://colab.research.google.com/github/qrNasr/AraBigData/blob/main/ListComprehension.ipynb\" target=\"_parent\"><img src=\"https://colab.research.google.com/assets/colab-badge.svg\" alt=\"Open In Colab\"/></a>"
      ]
    },
    {
      "cell_type": "markdown",
      "source": [
        "[expression> loop in iterable}"
      ],
      "metadata": {
        "id": "LoqBGliborFm"
      }
    },
    {
      "cell_type": "code",
      "source": [
        "# Sample loop\n",
        "fruits=['orange','kiwi','apple']\n",
        "for fruit in fruits:\n",
        "  print(fruit.upper())"
      ],
      "metadata": {
        "colab": {
          "base_uri": "https://localhost:8080/"
        },
        "id": "TaX4wCifhDr3",
        "outputId": "a771e50a-4a7b-471e-8fa3-07b8814d42e2"
      },
      "execution_count": null,
      "outputs": [
        {
          "output_type": "stream",
          "name": "stdout",
          "text": [
            "ORANGE\n",
            "KIWI\n",
            "APPLE\n"
          ]
        }
      ]
    },
    {
      "cell_type": "code",
      "execution_count": null,
      "metadata": {
        "colab": {
          "base_uri": "https://localhost:8080/"
        },
        "id": "fuiB8DWje2DV",
        "outputId": "aac8fd2c-c352-4e32-a8aa-d8b3ab421cfe"
      },
      "outputs": [
        {
          "output_type": "stream",
          "name": "stdout",
          "text": [
            "orange\n",
            "kiwi\n",
            "apple\n"
          ]
        },
        {
          "output_type": "execute_result",
          "data": {
            "text/plain": [
              "[None, None, None]"
            ]
          },
          "metadata": {},
          "execution_count": 2
        }
      ],
      "source": [
        "fruits=['orange','kiwi','apple']\n",
        "# creat [] , then action (print), then for loop\n",
        "[print(fruit) for fruit in fruits]"
      ]
    },
    {
      "cell_type": "code",
      "source": [
        ""
      ],
      "metadata": {
        "id": "bsXCaqcRgWTO"
      },
      "execution_count": null,
      "outputs": []
    },
    {
      "cell_type": "code",
      "execution_count": null,
      "metadata": {
        "colab": {
          "base_uri": "https://localhost:8080/"
        },
        "outputId": "648893c9-04cb-476d-cfe5-0804059ff77c",
        "id": "__zVIdtngWrG"
      },
      "outputs": [
        {
          "output_type": "stream",
          "name": "stdout",
          "text": [
            "ORANGE\n",
            "KIWI\n",
            "APPLE\n"
          ]
        },
        {
          "output_type": "execute_result",
          "data": {
            "text/plain": [
              "[None, None, None]"
            ]
          },
          "metadata": {},
          "execution_count": 7
        }
      ],
      "source": [
        "fruits=['orange','kiwi','apple']\n",
        "# creat [] , then action (print), then for loop\n",
        "# use upper method\n",
        "[print(fruit.upper())for fruit in fruits]"
      ]
    },
    {
      "cell_type": "code",
      "source": [
        "nums=[1,5,9,6]\n",
        "[i*3 for i in nums]\n",
        "# Action than loop"
      ],
      "metadata": {
        "colab": {
          "base_uri": "https://localhost:8080/"
        },
        "id": "jND8VwqQlBlF",
        "outputId": "72a9dd8f-464f-42c1-e391-d0d7db3e9658"
      },
      "execution_count": null,
      "outputs": [
        {
          "output_type": "execute_result",
          "data": {
            "text/plain": [
              "[3, 15, 27, 18]"
            ]
          },
          "metadata": {},
          "execution_count": 9
        }
      ]
    },
    {
      "cell_type": "code",
      "source": [
        "# assign the outcome to a variable\n",
        "nums=[1,5,9,6]\n",
        "result=[i*3 for i in nums]\n",
        "print(result)"
      ],
      "metadata": {
        "colab": {
          "base_uri": "https://localhost:8080/"
        },
        "id": "J9xvAB6-lgbF",
        "outputId": "ac88c9e8-e91c-42cc-c47a-109e17cf23fd"
      },
      "execution_count": null,
      "outputs": [
        {
          "output_type": "stream",
          "name": "stdout",
          "text": [
            "[3, 15, 27, 18]\n"
          ]
        }
      ]
    },
    {
      "cell_type": "code",
      "source": [
        "# Classic loop without list comprehension\n",
        "resultt =[]\n",
        "strings=['intro','to','list','comps']\n",
        "for i in strings:\n",
        "  i=i.upper()\n",
        "  resultt.append(i)\n",
        "  print(resultt)\n",
        "print(resultt)  \n"
      ],
      "metadata": {
        "id": "IbFM4xShmAj9"
      },
      "execution_count": null,
      "outputs": []
    },
    {
      "cell_type": "code",
      "source": [
        "# Now change the above loop to a list comprehension\n",
        "strings=['intro','to','list','comps']\n",
        "ListCom=[i.upper() for i in strings]\n",
        "print(ListCom)"
      ],
      "metadata": {
        "colab": {
          "base_uri": "https://localhost:8080/"
        },
        "id": "UCIvHBOxnwpj",
        "outputId": "ef8e6f67-1a81-405d-dd89-ba1b5639ccd9"
      },
      "execution_count": null,
      "outputs": [
        {
          "output_type": "stream",
          "name": "stdout",
          "text": [
            "['INTRO', 'TO', 'LIST', 'COMPS']\n"
          ]
        }
      ]
    },
    {
      "cell_type": "code",
      "source": [
        "range=[x*x for x in [2,4,6,8]]\n",
        "print(range)"
      ],
      "metadata": {
        "colab": {
          "base_uri": "https://localhost:8080/"
        },
        "id": "7qms9EWao75V",
        "outputId": "608f217a-b24a-4171-ed03-f6a761ddc2d9"
      },
      "execution_count": null,
      "outputs": [
        {
          "output_type": "stream",
          "name": "stdout",
          "text": [
            "[4, 16, 36, 64]\n"
          ]
        }
      ]
    },
    {
      "cell_type": "markdown",
      "source": [
        "# How to define a function"
      ],
      "metadata": {
        "id": "7s4zYpkoqJDg"
      }
    },
    {
      "cell_type": "code",
      "source": [
        "def timesFive(num):\n",
        "  return num*5\n",
        "\n",
        "print(timesFive(3))"
      ],
      "metadata": {
        "colab": {
          "base_uri": "https://localhost:8080/"
        },
        "id": "Ye84h0NLptaR",
        "outputId": "f2f509ac-0d41-4168-e2b9-acf9cc4cc93f"
      },
      "execution_count": null,
      "outputs": [
        {
          "output_type": "stream",
          "name": "stdout",
          "text": [
            "15\n"
          ]
        }
      ]
    },
    {
      "cell_type": "markdown",
      "source": [
        "# **Loop instead of function**"
      ],
      "metadata": {
        "id": "gVxlg12_rGtk"
      }
    },
    {
      "cell_type": "code",
      "source": [
        "# Loop instead of function\n",
        "resultt =[]\n",
        "#strings=['intro','to','list','comps']\n",
        "# nums are in cell 11\n",
        "for i in nums:\n",
        "  i= timesFive(i)\n",
        "  print('i', i)\n",
        "  resultt.append(i)\n",
        "print('result w function', resultt)\n"
      ],
      "metadata": {
        "colab": {
          "base_uri": "https://localhost:8080/"
        },
        "id": "GWwCrvmBqi_T",
        "outputId": "fd1ba5ba-e421-4533-dd3e-ef1c36d429d7"
      },
      "execution_count": null,
      "outputs": [
        {
          "output_type": "stream",
          "name": "stdout",
          "text": [
            "i 5\n",
            "i 25\n",
            "i 45\n",
            "i 30\n",
            "result w function [5, 25, 45, 30]\n"
          ]
        }
      ]
    },
    {
      "cell_type": "markdown",
      "source": [
        "# use function in list comprehension"
      ],
      "metadata": {
        "id": "uEeLnAaLscKG"
      }
    },
    {
      "cell_type": "markdown",
      "source": [
        "use timesFive mentioned above"
      ],
      "metadata": {
        "id": "U0fGriursluM"
      }
    },
    {
      "cell_type": "code",
      "source": [
        "# function followed by loop.\n",
        "num_sum=[timesFive(i) for i in nums]\n",
        "num_sum"
      ],
      "metadata": {
        "colab": {
          "base_uri": "https://localhost:8080/"
        },
        "id": "dkSI-tqFsxvu",
        "outputId": "bd7be512-2dc0-4927-fb1a-a1653f644fd9"
      },
      "execution_count": null,
      "outputs": [
        {
          "output_type": "execute_result",
          "data": {
            "text/plain": [
              "[5, 25, 45, 30]"
            ]
          },
          "metadata": {},
          "execution_count": 22
        }
      ]
    },
    {
      "cell_type": "code",
      "source": [
        ""
      ],
      "metadata": {
        "id": "tPV12x7EtuEz"
      },
      "execution_count": null,
      "outputs": []
    },
    {
      "cell_type": "code",
      "source": [
        "# function followed by loop, loop followed by if condition.\n",
        "num_sum=[timesFive(i) for i in nums if i > 2]\n",
        "num_sum"
      ],
      "metadata": {
        "colab": {
          "base_uri": "https://localhost:8080/"
        },
        "outputId": "6ee0379f-5cc6-4507-c29c-3959c0ae4406",
        "id": "JjoyG45-tukB"
      },
      "execution_count": null,
      "outputs": [
        {
          "output_type": "execute_result",
          "data": {
            "text/plain": [
              "[25, 45, 30]"
            ]
          },
          "metadata": {},
          "execution_count": 23
        }
      ]
    },
    {
      "cell_type": "markdown",
      "source": [
        "# List comprehension with Dictionary"
      ],
      "metadata": {
        "id": "rQ7D3g4CuX0u"
      }
    },
    {
      "cell_type": "markdown",
      "source": [
        "Create a dictionary"
      ],
      "metadata": {
        "id": "15wtvdT5wNxM"
      }
    },
    {
      "cell_type": "code",
      "source": [
        "dicts=[{'name':'Nasr'},{'name':'Mona'}]\n",
        "dicts"
      ],
      "metadata": {
        "colab": {
          "base_uri": "https://localhost:8080/"
        },
        "id": "f32PuVAHue74",
        "outputId": "0878721a-4f15-42b9-8374-fefd0bd1bbfe"
      },
      "execution_count": null,
      "outputs": [
        {
          "output_type": "execute_result",
          "data": {
            "text/plain": [
              "[{'name': 'Nasr'}, {'name': 'Mona'}]"
            ]
          },
          "metadata": {},
          "execution_count": 25
        }
      ]
    },
    {
      "cell_type": "markdown",
      "source": [
        "**Now use classic loop**"
      ],
      "metadata": {
        "id": "XzGnGL4AvfU9"
      }
    },
    {
      "cell_type": "code",
      "source": [
        "results=[]\n",
        "for i in dicts:\n",
        "  results.append(i['name'])\n",
        "print('results', results)"
      ],
      "metadata": {
        "colab": {
          "base_uri": "https://localhost:8080/"
        },
        "id": "clbpIi9BvoFL",
        "outputId": "cfe60e0d-9f8c-4af1-e5bc-01c0956132ee"
      },
      "execution_count": null,
      "outputs": [
        {
          "output_type": "stream",
          "name": "stdout",
          "text": [
            "results ['Nasr', 'Mona']\n"
          ]
        }
      ]
    },
    {
      "cell_type": "markdown",
      "source": [
        "**Now use list comprehension**"
      ],
      "metadata": {
        "id": "QzQrZD4Gwaq3"
      }
    },
    {
      "cell_type": "code",
      "source": [
        "results=[i['name'] for i in dicts]\n",
        "print(results)"
      ],
      "metadata": {
        "colab": {
          "base_uri": "https://localhost:8080/"
        },
        "id": "SUCaQEdYwiGT",
        "outputId": "c402b91b-f57e-4718-e1cc-99e0aa06ea73"
      },
      "execution_count": null,
      "outputs": [
        {
          "output_type": "stream",
          "name": "stdout",
          "text": [
            "['Nasr', 'Mona']\n"
          ]
        }
      ]
    },
    {
      "cell_type": "code",
      "source": [
        "results=[i['name'] + ' python 'for i in dicts]\n",
        "print(results)"
      ],
      "metadata": {
        "colab": {
          "base_uri": "https://localhost:8080/"
        },
        "id": "mkszjU0LxGw_",
        "outputId": "6a9ec67b-9a8f-49de-b94f-32cb4df17996"
      },
      "execution_count": null,
      "outputs": [
        {
          "output_type": "stream",
          "name": "stdout",
          "text": [
            "['Nasr python ', 'Mona python ']\n"
          ]
        }
      ]
    },
    {
      "cell_type": "markdown",
      "source": [
        "# use if with list comprehension"
      ],
      "metadata": {
        "id": "yBCFNIGEx2HL"
      }
    },
    {
      "cell_type": "markdown",
      "source": [
        "Generic list comprehension"
      ],
      "metadata": {
        "id": "3COCiF27x_Wu"
      }
    },
    {
      "cell_type": "markdown",
      "source": [
        "[i for i in list]"
      ],
      "metadata": {
        "id": "k4vBMgVDyL8-"
      }
    },
    {
      "cell_type": "code",
      "source": [
        "list1=[1,2,3]\n",
        "#loop with only if, loop then If.\n",
        "output=[i for i in list1 if i>0]\n",
        "print(output)"
      ],
      "metadata": {
        "colab": {
          "base_uri": "https://localhost:8080/"
        },
        "outputId": "65151812-b256-46c6-ba7d-483a5549717f",
        "id": "Fyv_5hz0zYlJ"
      },
      "execution_count": null,
      "outputs": [
        {
          "output_type": "stream",
          "name": "stdout",
          "text": [
            "[1, 2, 3]\n"
          ]
        }
      ]
    },
    {
      "cell_type": "code",
      "source": [
        "list1=[1,2,3]\n",
        "# if is on the left of the for loop, else if on the right of the loop\n",
        "output=[i*5 if i ==3 else i for i in list1]\n",
        "print(output)"
      ],
      "metadata": {
        "colab": {
          "base_uri": "https://localhost:8080/"
        },
        "id": "iwAKp3Ibx-51",
        "outputId": "ceb100ec-c526-4f9c-ba26-ae7fc9ec6651"
      },
      "execution_count": null,
      "outputs": [
        {
          "output_type": "stream",
          "name": "stdout",
          "text": [
            "[1, 2, 15]\n"
          ]
        }
      ]
    },
    {
      "cell_type": "code",
      "source": [
        "list1=[1,2,3]\n",
        "# if is on the left of the for loop, else if on the right of the loop\n",
        "output=[i*5 for i in list1 if i==3]\n",
        "print(output)"
      ],
      "metadata": {
        "colab": {
          "base_uri": "https://localhost:8080/"
        },
        "outputId": "2e874208-ba58-4be6-a51e-58e029fffa9e",
        "id": "AutMf_V30FOd"
      },
      "execution_count": null,
      "outputs": [
        {
          "output_type": "stream",
          "name": "stdout",
          "text": [
            "[15]\n"
          ]
        }
      ]
    },
    {
      "cell_type": "markdown",
      "source": [
        ""
      ],
      "metadata": {
        "id": "PgQ5ZsO-l7hG"
      }
    },
    {
      "cell_type": "code",
      "source": [
        "engCap= [A, B, C, D, E, F, G, H, I, J, K, L, M, N, O, P, Q, R, S, T, U, V, W, X, Y, Z]\n",
        "engSmall=[]\n",
        "\n",
        "for e in engCap:\n",
        "  e.lower()\n",
        "  engSamll.append()\n",
        "print(engSmall) "
      ],
      "metadata": {
        "colab": {
          "base_uri": "https://localhost:8080/",
          "height": 237
        },
        "id": "nh9y3ZAXmmZY",
        "outputId": "c64e9588-12d3-4d0d-c7be-bfec6a8414b7"
      },
      "execution_count": null,
      "outputs": [
        {
          "output_type": "error",
          "ename": "NameError",
          "evalue": "ignored",
          "traceback": [
            "\u001b[0;31m---------------------------------------------------------------------------\u001b[0m",
            "\u001b[0;31mNameError\u001b[0m                                 Traceback (most recent call last)",
            "\u001b[0;32m<ipython-input-2-22ee982e46cb>\u001b[0m in \u001b[0;36m<module>\u001b[0;34m()\u001b[0m\n\u001b[0;32m----> 1\u001b[0;31m \u001b[0mengCap\u001b[0m\u001b[0;34m=\u001b[0m \u001b[0;34m[\u001b[0m\u001b[0mA\u001b[0m\u001b[0;34m,\u001b[0m \u001b[0mB\u001b[0m\u001b[0;34m,\u001b[0m \u001b[0mC\u001b[0m\u001b[0;34m,\u001b[0m \u001b[0mD\u001b[0m\u001b[0;34m,\u001b[0m \u001b[0mE\u001b[0m\u001b[0;34m,\u001b[0m \u001b[0mF\u001b[0m\u001b[0;34m,\u001b[0m \u001b[0mG\u001b[0m\u001b[0;34m,\u001b[0m \u001b[0mH\u001b[0m\u001b[0;34m,\u001b[0m \u001b[0mI\u001b[0m\u001b[0;34m,\u001b[0m \u001b[0mJ\u001b[0m\u001b[0;34m,\u001b[0m \u001b[0mK\u001b[0m\u001b[0;34m,\u001b[0m \u001b[0mL\u001b[0m\u001b[0;34m,\u001b[0m \u001b[0mM\u001b[0m\u001b[0;34m,\u001b[0m \u001b[0mN\u001b[0m\u001b[0;34m,\u001b[0m \u001b[0mO\u001b[0m\u001b[0;34m,\u001b[0m \u001b[0mP\u001b[0m\u001b[0;34m,\u001b[0m \u001b[0mQ\u001b[0m\u001b[0;34m,\u001b[0m \u001b[0mR\u001b[0m\u001b[0;34m,\u001b[0m \u001b[0mS\u001b[0m\u001b[0;34m,\u001b[0m \u001b[0mT\u001b[0m\u001b[0;34m,\u001b[0m \u001b[0mU\u001b[0m\u001b[0;34m,\u001b[0m \u001b[0mV\u001b[0m\u001b[0;34m,\u001b[0m \u001b[0mW\u001b[0m\u001b[0;34m,\u001b[0m \u001b[0mX\u001b[0m\u001b[0;34m,\u001b[0m \u001b[0mY\u001b[0m\u001b[0;34m,\u001b[0m \u001b[0mZ\u001b[0m\u001b[0;34m]\u001b[0m\u001b[0;34m\u001b[0m\u001b[0;34m\u001b[0m\u001b[0m\n\u001b[0m\u001b[1;32m      2\u001b[0m \u001b[0mengSmall\u001b[0m\u001b[0;34m=\u001b[0m\u001b[0;34m[\u001b[0m\u001b[0;34m]\u001b[0m\u001b[0;34m\u001b[0m\u001b[0;34m\u001b[0m\u001b[0m\n\u001b[1;32m      3\u001b[0m \u001b[0;34m\u001b[0m\u001b[0m\n\u001b[1;32m      4\u001b[0m \u001b[0;32mfor\u001b[0m \u001b[0me\u001b[0m \u001b[0;32min\u001b[0m \u001b[0mengCap\u001b[0m\u001b[0;34m:\u001b[0m\u001b[0;34m\u001b[0m\u001b[0;34m\u001b[0m\u001b[0m\n\u001b[1;32m      5\u001b[0m   \u001b[0me\u001b[0m\u001b[0;34m.\u001b[0m\u001b[0mlower\u001b[0m\u001b[0;34m(\u001b[0m\u001b[0;34m)\u001b[0m\u001b[0;34m\u001b[0m\u001b[0;34m\u001b[0m\u001b[0m\n",
            "\u001b[0;31mNameError\u001b[0m: name 'A' is not defined"
          ]
        }
      ]
    }
  ]
}