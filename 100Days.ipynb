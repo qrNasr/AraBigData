{
  "cells": [
    {
      "cell_type": "markdown",
      "metadata": {
        "id": "view-in-github",
        "colab_type": "text"
      },
      "source": [
        "<a href=\"https://colab.research.google.com/github/qrNasr/AraBigData/blob/main/100Days.ipynb\" target=\"_parent\"><img src=\"https://colab.research.google.com/assets/colab-badge.svg\" alt=\"Open In Colab\"/></a>"
      ]
    },
    {
      "cell_type": "code",
      "execution_count": null,
      "metadata": {
        "colab": {
          "base_uri": "https://localhost:8080/"
        },
        "id": "CPYRau8oMxPG",
        "outputId": "f4b5307c-1391-455d-ec60-a58ca151b536"
      },
      "outputs": [
        {
          "name": "stdout",
          "output_type": "stream",
          "text": [
            "Please enter the hights: 12 15 18\n",
            "3\n",
            "[12, '15', '18']\n",
            "[12, 15, '18']\n",
            "[12, 15, 18]\n"
          ]
        }
      ],
      "source": [
        "hight=[]\n",
        "\n",
        "studentHights= input('Please enter the hights: ').split()\n",
        "print(len(studentHights))\n",
        "\n",
        "for i in range(0,len(studentHights)):\n",
        "    studentHights[i]=int(studentHights[i])\n",
        "    print(studentHights)"
      ]
    },
    {
      "cell_type": "markdown",
      "metadata": {
        "id": "fS7yh55Ckerc"
      },
      "source": [
        "# Fizz Buzz game"
      ]
    },
    {
      "cell_type": "code",
      "execution_count": null,
      "metadata": {
        "colab": {
          "background_save": true
        },
        "id": "zZTyB4D_kiOO"
      },
      "outputs": [],
      "source": [
        "for number in range(1,101):\n",
        "    if number %3 ==0 and number % 5 ==0:\n",
        "        print('fizzBuss')\n",
        "    elif number % 3==0:\n",
        "        print('fizz')\n",
        "    elif number %5 ==0:\n",
        "        print('buzz')\n",
        "    else:\n",
        "        print(number)"
      ]
    },
    {
      "cell_type": "markdown",
      "source": [
        "# Review this lesson\n",
        "\n",
        "https://www.udemy.com/course/100-days-of-code/learn/lecture/18085749#overview"
      ],
      "metadata": {
        "id": "Ay_QCqWQzZfe"
      }
    }
  ],
  "metadata": {
    "colab": {
      "name": "100Days.ipynb",
      "provenance": [],
      "authorship_tag": "ABX9TyPZhclS7xs/qb16hUH8IR55",
      "include_colab_link": true
    },
    "kernelspec": {
      "display_name": "Python 3",
      "name": "python3"
    },
    "language_info": {
      "name": "python"
    }
  },
  "nbformat": 4,
  "nbformat_minor": 0
}